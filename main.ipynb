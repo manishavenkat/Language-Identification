{
  "nbformat": 4,
  "nbformat_minor": 0,
  "metadata": {
    "colab": {
      "provenance": [],
      "gpuType": "T4"
    },
    "kernelspec": {
      "name": "python3",
      "display_name": "Python 3"
    },
    "language_info": {
      "name": "python"
    },
    "accelerator": "GPU"
  },
  "cells": [
    {
      "cell_type": "markdown",
      "source": [
        "# **Language Identification (LID) In 2 Ways: Naive Bayes with TF-IDF Features & BiLSTM**"
      ],
      "metadata": {
        "id": "GiHSvhdc0m6w"
      }
    },
    {
      "cell_type": "markdown",
      "source": [
        "**Introduction**\n",
        "\n",
        "- **Task**: Build a LID model using python.\n",
        "\n",
        "- **Dataset:** My model is trained and testing on 13 languages: English, German, Hindi, Spanish, French, Italian, Arabic, Dutch, Japanese, Portuguese, Tamil, Kannanda & Malayalam. NOTE: The last three (Tamil, Kannana and Malayalam) are codemixed with English and transliterated to Latin script.\n",
        "\n",
        "I obtained a dataset for the first 10 languages in the list above from HuggingFace. I downloaded just the validation set (it faster to download that the 11K train split), which has 2.03K datapoints and then made my own train-val-test split from this set.\n",
        "\n",
        "I obtained the Dravidian codemixed languages' data from [this GitHub repo](https://github.com/bharathichezhiyan/DravidianCodeMix-Dataset), which is an online documentation of Chakravarthi et al.'s (2022) DravidianCodeMix dataset [link text](https://link.springer.com/article/10.1007/s10579-022-09583-7).  \n",
        "\n",
        "My dataset is split into a 60-20-20 train-test-val split, with *equal distribution across the 13 languages (*in some cases, some languagesh have 1 more datapoint than the others because an exact even split was not possible).  \n",
        "\n",
        "I chose the HuggingFace dataset because it was easily accessible and contained a good distribution of languages across different language families and also, from different written scripts. This allows my LID model to learn a diverse range of languages as well as differentiating between similar languages like Spanish and Italian.\n",
        "\n",
        "I chose 3 Dravidian Codemixed languages to observe how a word-order-free approach like Naive Bayes would handle documents that contain prominent tokens from another language in the dataset (English) while the majority of the content in a Tamil document remains as transliterated Tamil, whose popular ngrams are not similar to those in English.\n",
        "\n",
        "While the data are preprocessed to remove punctuation marks, they are not stemmed or lemmatized to preserve meaningful morphemes in different languages.\n",
        "\n",
        "- **Evaluation Strategy:** Both models are tested on the test set; a classification report is printed, showing the precision, recall and F1 score by language and an overall accuracy score. Considering the dataset is equally distributed across languages, I take the accuracy score to be a fair representation of the model's performance on the test set. The F1 score shows a balance between precision and recall for each language.\n",
        "\n",
        "I also print out some misclassified examples to see cases where the model made errors.\n",
        "\n",
        "- **How To Run This Code & Access The Data:**\n",
        "\n",
        "Colab Link: https://colab.research.google.com/drive/1gJCn-QmCaGOfbQtcmt0J__QKxn5l1ezh?usp=sharing\n",
        "If using the Colab link to run this file, you may need to download the datasets from my GitHub repo below to run it fully.\n",
        "\n",
        "GitHub Repo: https://github.com/manishavenkat/Language-Identification\n",
        "This repo contains this .ipynb as well as the train/val/test splits used for both models. It also contains the full codemixed datasets from which random documents were taken to create my train/val/test splits."
      ],
      "metadata": {
        "id": "qV7EKqQT1GiU"
      }
    },
    {
      "cell_type": "markdown",
      "source": [
        "**Section 1: Naive Bayes Classifier with TF-IDF Features**\n",
        "\n",
        "This approach was inspired by [Gebre et al.'s](https://aclanthology.org/W13-1728/) (2013) *Improving Native Language Identification with TF-IDF Weighting.*\n",
        "\n",
        "TF-IDF was used to see how unique an ngram was not just to each document but to each language, because certain ngrams are common across similar languages like Spanish and Portuguese. There are similar ngrams in transliterated Tamil and Malayalam as well. My working hypothesis was that TF-IDF would help better distinguish between similar languages than a bag-of-words approach, which does not normalize ngrams by language class."
      ],
      "metadata": {
        "id": "pLKsuUpj1Cu0"
      }
    },
    {
      "cell_type": "code",
      "execution_count": 1,
      "metadata": {
        "id": "3FJOFthy444i"
      },
      "outputs": [],
      "source": [
        "import pandas as pd\n",
        "import numpy as np\n",
        "from sklearn.feature_extraction.text import TfidfVectorizer\n",
        "from sklearn.model_selection import train_test_split\n",
        "from sklearn.naive_bayes import MultinomialNB\n",
        "from sklearn.metrics import classification_report, confusion_matrix\n",
        "import seaborn as sns\n",
        "import matplotlib.pyplot as plt\n",
        "import re"
      ]
    },
    {
      "cell_type": "code",
      "source": [
        "access_token = 'ENTER YOUR ACCESS TOKEN HERE' #only if you want to redownload the dataset from HuggingFace"
      ],
      "metadata": {
        "id": "O0EONptk5pl9"
      },
      "execution_count": 2,
      "outputs": []
    },
    {
      "cell_type": "code",
      "source": [
        "splits = {'train': 'train.csv', 'validation': 'validation.csv', 'test': 'test.csv'}\n",
        "df = pd.read_csv(\"hf://datasets/Amani27/massive_translation_dataset/\" + splits[\"validation\"]) #downloading the smallest set for faster download\n",
        "print(df.head)"
      ],
      "metadata": {
        "colab": {
          "base_uri": "https://localhost:8080/"
        },
        "id": "fN01py2e4-n5",
        "outputId": "6cbf4a41-e0a7-4de1-9620-dbd240fe0a7a"
      },
      "execution_count": 3,
      "outputs": [
        {
          "output_type": "stream",
          "name": "stderr",
          "text": [
            "/usr/local/lib/python3.10/dist-packages/huggingface_hub/utils/_token.py:89: UserWarning: \n",
            "The secret `HF_TOKEN` does not exist in your Colab secrets.\n",
            "To authenticate with the Hugging Face Hub, create a token in your settings tab (https://huggingface.co/settings/tokens), set it as secret in your Google Colab and restart your session.\n",
            "You will be able to reuse this secret in all of your notebooks.\n",
            "Please note that authentication is recommended but still optional to access public models or datasets.\n",
            "  warnings.warn(\n"
          ]
        },
        {
          "output_type": "stream",
          "name": "stdout",
          "text": [
            "<bound method NDFrame.head of          id       split                                              en_US  \\\n",
            "0        11  validation                         turn the lights off please   \n",
            "1        17  validation                         dim the lights in the hall   \n",
            "2        24  validation                                 make a room darker   \n",
            "3        26  validation                                     clean the flat   \n",
            "4        30  validation  cleaning is good dust is so bad do now your ma...   \n",
            "...     ...         ...                                                ...   \n",
            "2028  17121  validation                              report any new emails   \n",
            "2029  17137  validation                how many unread messages have i got   \n",
            "2030  17140  validation            please respond to the email i just read   \n",
            "2031  17153  validation                            did bert write me today   \n",
            "2032  17167  validation                        what's the address for alex   \n",
            "\n",
            "                                                  de_DE  \\\n",
            "0                         schalte bitte die lichter aus   \n",
            "1                  dimme die lichter im eingangsbereich   \n",
            "2                              mache einen raum dunkler   \n",
            "3                                   reinige die wohnung   \n",
            "4     putzen ist gut staub ist so schlecht mach jetz...   \n",
            "...                                                 ...   \n",
            "2028                        melde jegliche neuen emails   \n",
            "2029  wie viele ungelesene nachrichten habe ich beko...   \n",
            "2030  antworte bitte auf die email die ich gerade ge...   \n",
            "2031                     hat mir bert heute geschrieben   \n",
            "2032                           wie lautet alex' adresse   \n",
            "\n",
            "                                                  hi_IN  \\\n",
            "0                                   लाइट्स को बंद कर दो   \n",
            "1                                 हॉल में रोशनी कम करें   \n",
            "2                                  एक कमरे को गहरा बनाओ   \n",
            "3                                         समतल साफ करें   \n",
            "4     सफाई अच्छी है धूल इतनी खराब है अब अपना जादू कर...   \n",
            "...                                                 ...   \n",
            "2028                       कोई नए ईमेल के बारे में बताओ   \n",
            "2029                     मेरे पास कितने अपठित संदेश हैं   \n",
            "2030   कृपया उस ईमेल का जवाब दें जिसे मैंने अभी पढ़ा है   \n",
            "2031                          क्या रोहन ने आज मुझे लिखा   \n",
            "2032                                रामू का क्या पता है   \n",
            "\n",
            "                                                  es_ES  \\\n",
            "0                             apaga las luces por favor   \n",
            "1                        atenua las luces en el pasillo   \n",
            "2                                oscurece la habitación   \n",
            "3                                        limpia el piso   \n",
            "4     limpiar es bueno el polvo es tan malo haz ahor...   \n",
            "...                                                 ...   \n",
            "2028          informa de algún correo electrónico nuevo   \n",
            "2029                   cuántos mensajes no leídos tengo   \n",
            "2030  por favor responde el correo electrónico que y...   \n",
            "2031                                juan me escribe hoy   \n",
            "2032                     cúal es la dirección para juan   \n",
            "\n",
            "                                                  fr_FR  \\\n",
            "0                    éteigne les lumières s'il te plait   \n",
            "1                    tamiser les lumières dans la salle   \n",
            "2                             rendre une chambre foncée   \n",
            "3                                nettoyer la télévision   \n",
            "4     le nettoyage est bon la poussière est si mauva...   \n",
            "...                                                 ...   \n",
            "2028                         signale tout nouvel e-mail   \n",
            "2029                 combien ai- je de messages non lus   \n",
            "2030    merci de répondre au email que je viens de lire   \n",
            "2031              est-ce que bert m'a écrit aujourd'hui   \n",
            "2032                      quelle est le adresse de alex   \n",
            "\n",
            "                                                  it_IT  \\\n",
            "0                             spegni le luci per favore   \n",
            "1                        abbassa le luci dell' ingresso   \n",
            "2                              rendi la stanza più buia   \n",
            "3                               pulisci l' appartamento   \n",
            "4     la pulizia è bella la polvere è brutta stupisc...   \n",
            "...                                                 ...   \n",
            "2028                           segnala ogni nuova email   \n",
            "2029                       quanti messaggi non letti ho   \n",
            "2030            rispondi all' email che ho appena letto   \n",
            "2031                        oggi giovanni mi ha scritto   \n",
            "2032                        qual è l' indirizzo di alex   \n",
            "\n",
            "                                                  ar_SA  \\\n",
            "0                                طفي اللمبات الله يسعدك   \n",
            "1                                  وطي اللمبات في الممر   \n",
            "2                                 خلي الغرفة مظلمة أكثر   \n",
            "3                                             نظف الشقة   \n",
            "4     التنظيف جيد للغبار أمر سيء للغاية والآن قم بتن...   \n",
            "...                                                 ...   \n",
            "2028                              انقل اي ايميلات جديدة   \n",
            "2029                     كم الرسايل اللي عندي وماقريتها   \n",
            "2030          لو سمحت رد على ال email الي قريته قبل شوي   \n",
            "2031                              أرسل لي شي محمد اليوم   \n",
            "2032                                      وش عنوان ماجد   \n",
            "\n",
            "                                                  nl_NL  \\\n",
            "0                        zet de lichten uit alsjeblieft   \n",
            "1                              dim de lichten in de hal   \n",
            "2                              maak een kamer donkerder   \n",
            "3                                   maak de flat schoon   \n",
            "4     schoonmaken is goed en stof is slecht gebruik ...   \n",
            "...                                                 ...   \n",
            "2028                        report enige nieuwe e-mails   \n",
            "2029                 hoeveel ongelezen berichten heb ik   \n",
            "2030  stuur alsjeblieft een antwoord op de email dit...   \n",
            "2031                   heeft bert me vandaag geschreven   \n",
            "2032                           wat is de email van alex   \n",
            "\n",
            "                               ja_JP  \\\n",
            "0                            ライトを消して   \n",
            "1                        玄関のライトを暗くする   \n",
            "2                            部屋を暗くする   \n",
            "3                          アパートを掃除する   \n",
            "4     掃除はいいけどほこりがひどくて魔法でカーペットをきれいにして   \n",
            "...                              ...   \n",
            "2028                          新しいメール   \n",
            "2029        私が受け取っていない未読のメッセージは何件あるか   \n",
            "2030                 さっき私が見たメールを返事する   \n",
            "2031                   俊彦は今日メールをくれたの   \n",
            "2032                        浩司のアドレスは   \n",
            "\n",
            "                                                  pt_PT  \n",
            "0                                     desligar as luzes  \n",
            "1                            diminuir as luzes no salão  \n",
            "2                                      escurecer a sala  \n",
            "3                                  limpar o apartamento  \n",
            "4     limpar é bom poeira é ruim faça agora sua mági...  \n",
            "...                                                 ...  \n",
            "2028                    reportar quaisquer emails novos  \n",
            "2029               quantas mensagens não lidas tenho eu  \n",
            "2030               responder ao email que acabei de ler  \n",
            "2031            o alberto escreveu-me alguma coisa hoje  \n",
            "2032                     qual é o endereço do alexandre  \n",
            "\n",
            "[2033 rows x 12 columns]>\n"
          ]
        }
      ]
    },
    {
      "cell_type": "code",
      "source": [
        "# from google.colab import drive\n",
        "# drive.mount('/content/drive')"
      ],
      "metadata": {
        "colab": {
          "base_uri": "https://localhost:8080/"
        },
        "id": "SqIcIJN9-SUj",
        "outputId": "b018c699-741b-4428-9abf-7e239bcf58d7"
      },
      "execution_count": 4,
      "outputs": [
        {
          "output_type": "stream",
          "name": "stdout",
          "text": [
            "Mounted at /content/drive\n"
          ]
        }
      ]
    },
    {
      "cell_type": "code",
      "source": [
        "# tamil = '/content/drive/My Drive/tamil_sentiment_full_train.csv'\n",
        "# mal = '/content/drive/My Drive/mal_full_sentiment_train.csv'\n",
        "# kan = '/content/drive/My Drive/kannada_sentiment_train.csv'"
      ],
      "metadata": {
        "id": "HT13NQjk-gUW"
      },
      "execution_count": 5,
      "outputs": []
    },
    {
      "cell_type": "code",
      "source": [
        "df_tamil = pd.read_csv('/content/drive/My Drive/tamil_sentiment_full_train.csv', encoding='latin-1')\n",
        "df_kan = pd.read_csv('/content/drive/My Drive/kannada_sentiment_train.csv', encoding='latin-1')\n",
        "df_mal = pd.read_csv('/content/drive/My Drive/mal_full_sentiment_train.csv', encoding='latin-1')"
      ],
      "metadata": {
        "id": "BJfCWR1zxp4T",
        "colab": {
          "base_uri": "https://localhost:8080/"
        },
        "outputId": "45b812cd-0c85-4c8f-c1c7-af9c6a96aa24"
      },
      "execution_count": 6,
      "outputs": [
        {
          "output_type": "stream",
          "name": "stderr",
          "text": [
            "<ipython-input-6-8d6a96bb47b8>:1: DtypeWarning: Columns (3,10,11,12,13,14,15,16,17,18,19,20,21,22,23,24,25,26,27,29,32,35,37,39,44,57) have mixed types. Specify dtype option on import or set low_memory=False.\n",
            "  df_tamil = pd.read_csv('/content/drive/My Drive/tamil_sentiment_full_train.csv', encoding='latin-1')\n"
          ]
        }
      ]
    },
    {
      "cell_type": "code",
      "source": [
        "# Concatenate the first two columns of the three dataframes lengthwise\n",
        "df_codemixed = pd.concat([df_tamil.iloc[:, :2], df_kan.iloc[:, :2], df_mal.iloc[:, :2]], axis=0)\n",
        "print(df_codemixed.head)"
      ],
      "metadata": {
        "id": "ikv65eFmY-al",
        "colab": {
          "base_uri": "https://localhost:8080/"
        },
        "outputId": "885d6e14-4c71-4d5c-c1ad-3a8903564fa7"
      },
      "execution_count": 7,
      "outputs": [
        {
          "output_type": "stream",
          "name": "stdout",
          "text": [
            "<bound method NDFrame.head of                                                     text   language\n",
            "0                  First like button vijay setupati fans      tamil\n",
            "1             Vetri ne dhanusha pudiche thongitu iru....      tamil\n",
            "2      Ithu romba naal ku munnadi Short film'a pathat...      tamil\n",
            "3                   Trending no1 in srilanka.... june 16      tamil\n",
            "4                          Maja thala marana  mass thala      tamil\n",
            "...                                                  ...        ...\n",
            "15689  Sheriyaa.. Siddique Lalettante othiri kali ner...  malayalam\n",
            "15690  Adutha vishunu aduthu vekkam .... Assal padakk...  malayalam\n",
            "15691  Teaserum trailer kandapol nyn vecharichu poyen...  malayalam\n",
            "15692  njan ee song kett maduthilla .athrakku ishtta ...  malayalam\n",
            "15693     Ente tamil friend nte caller tone aanu ee patu  malayalam\n",
            "\n",
            "[57050 rows x 2 columns]>\n"
          ]
        }
      ]
    },
    {
      "cell_type": "code",
      "source": [
        "# Remove punctuation from text\n",
        "df_codemixed[df_codemixed.columns[0]] = df_codemixed[df_codemixed.columns[0]].apply(lambda x: re.sub(r'[^\\w\\s]', '', str(x)))\n",
        "print(df_codemixed.head)\n",
        "\n",
        "# # Remove entries with 'à, ®, Ã'\n",
        "df_codemixed = df_codemixed[~df_codemixed[df_codemixed.columns[0]].str.contains('à®', na=False)]\n",
        "# df_codemixed.to_csv('codemixed_data.csv', index=False)\n",
        "print(df_codemixed.head)"
      ],
      "metadata": {
        "id": "GFBb18Wccy2e",
        "colab": {
          "base_uri": "https://localhost:8080/"
        },
        "outputId": "5cca3e2c-5250-4d7e-d4de-22aea515da9c"
      },
      "execution_count": 8,
      "outputs": [
        {
          "output_type": "stream",
          "name": "stdout",
          "text": [
            "<bound method NDFrame.head of                                                     text   language\n",
            "0                  First like button vijay setupati fans      tamil\n",
            "1                 Vetri ne dhanusha pudiche thongitu iru      tamil\n",
            "2      Ithu romba naal ku munnadi Short filma pathath...      tamil\n",
            "3                       Trending no1 in srilanka june 16      tamil\n",
            "4                          Maja thala marana  mass thala      tamil\n",
            "...                                                  ...        ...\n",
            "15689  Sheriyaa Siddique Lalettante othiri kali nerit...  malayalam\n",
            "15690  Adutha vishunu aduthu vekkam  Assal padakkam a...  malayalam\n",
            "15691  Teaserum trailer kandapol nyn vecharichu poyen...  malayalam\n",
            "15692  njan ee song kett maduthilla athrakku ishtta l...  malayalam\n",
            "15693     Ente tamil friend nte caller tone aanu ee patu  malayalam\n",
            "\n",
            "[57050 rows x 2 columns]>\n",
            "<bound method NDFrame.head of                                                     text   language\n",
            "0                  First like button vijay setupati fans      tamil\n",
            "1                 Vetri ne dhanusha pudiche thongitu iru      tamil\n",
            "2      Ithu romba naal ku munnadi Short filma pathath...      tamil\n",
            "3                       Trending no1 in srilanka june 16      tamil\n",
            "4                          Maja thala marana  mass thala      tamil\n",
            "...                                                  ...        ...\n",
            "15689  Sheriyaa Siddique Lalettante othiri kali nerit...  malayalam\n",
            "15690  Adutha vishunu aduthu vekkam  Assal padakkam a...  malayalam\n",
            "15691  Teaserum trailer kandapol nyn vecharichu poyen...  malayalam\n",
            "15692  njan ee song kett maduthilla athrakku ishtta l...  malayalam\n",
            "15693     Ente tamil friend nte caller tone aanu ee patu  malayalam\n",
            "\n",
            "[57050 rows x 2 columns]>\n"
          ]
        }
      ]
    },
    {
      "cell_type": "code",
      "source": [
        "# Create a single row with language label\n",
        "def create_labeled_data(row):\n",
        "    all_langs = []\n",
        "    for lang in languages:\n",
        "        if pd.notna(row[lang]):\n",
        "           all_langs.append(pd.Series({\n",
        "                'text': row[lang],\n",
        "                'language': lang,\n",
        "                'id': row['id']\n",
        "            }))\n",
        "    return pd.concat(all_langs, axis=0)\n",
        "\n",
        "languages = ['en_US', 'de_DE', 'hi_IN', 'es_ES', 'fr_FR',\n",
        "             'it_IT', 'ar_SA', 'nl_NL', 'ja_JP', 'pt_PT']\n",
        "\n",
        "# Melt the dataframe to lengthwise format\n",
        "corpus_df = pd.melt(df,\n",
        "                    id_vars=['id'],\n",
        "                    value_vars=languages,\n",
        "                    var_name='language',\n",
        "                    value_name='text')\n",
        "\n",
        "# remove rows with NaN text\n",
        "corpus_df = corpus_df.dropna(subset=['text'])\n",
        "\n",
        "# reset index\n",
        "corpus_df = corpus_df.reset_index(drop=True)\n",
        "\n",
        "print(corpus_df.head)\n",
        "# print(corpus_df['language'].unique())"
      ],
      "metadata": {
        "colab": {
          "base_uri": "https://localhost:8080/"
        },
        "id": "W_4Nl8g28tBD",
        "outputId": "da78b6fc-2f3a-426b-b4de-e769feee14dc"
      },
      "execution_count": 9,
      "outputs": [
        {
          "output_type": "stream",
          "name": "stdout",
          "text": [
            "<bound method NDFrame.head of           id language                                               text\n",
            "0         11    en_US                         turn the lights off please\n",
            "1         17    en_US                         dim the lights in the hall\n",
            "2         24    en_US                                 make a room darker\n",
            "3         26    en_US                                     clean the flat\n",
            "4         30    en_US  cleaning is good dust is so bad do now your ma...\n",
            "...      ...      ...                                                ...\n",
            "20325  17121    pt_PT                    reportar quaisquer emails novos\n",
            "20326  17137    pt_PT               quantas mensagens não lidas tenho eu\n",
            "20327  17140    pt_PT               responder ao email que acabei de ler\n",
            "20328  17153    pt_PT            o alberto escreveu-me alguma coisa hoje\n",
            "20329  17167    pt_PT                     qual é o endereço do alexandre\n",
            "\n",
            "[20330 rows x 3 columns]>\n"
          ]
        }
      ]
    },
    {
      "cell_type": "code",
      "source": [
        "corpus_df = corpus_df.drop('id', axis=1)\n",
        "print(corpus_df.head)\n",
        "# concatenate df_codemixed to corpus_df lengthwise\n",
        "corpus_df = pd.concat([corpus_df, df_codemixed], axis=0)\n",
        "print(corpus_df['language'].unique())\n",
        "# convert corpus_df to utf-8 encoding\n",
        "corpus_df['text'] = corpus_df['text'].str.encode('utf-8', 'ignore').str.decode('utf-8')\n"
      ],
      "metadata": {
        "colab": {
          "base_uri": "https://localhost:8080/"
        },
        "id": "DBbsyUdnfLmw",
        "outputId": "712efbf5-4abb-4f74-a9a1-9c63a13ad712"
      },
      "execution_count": 10,
      "outputs": [
        {
          "output_type": "stream",
          "name": "stdout",
          "text": [
            "<bound method NDFrame.head of       language                                               text\n",
            "0        en_US                         turn the lights off please\n",
            "1        en_US                         dim the lights in the hall\n",
            "2        en_US                                 make a room darker\n",
            "3        en_US                                     clean the flat\n",
            "4        en_US  cleaning is good dust is so bad do now your ma...\n",
            "...        ...                                                ...\n",
            "20325    pt_PT                    reportar quaisquer emails novos\n",
            "20326    pt_PT               quantas mensagens não lidas tenho eu\n",
            "20327    pt_PT               responder ao email que acabei de ler\n",
            "20328    pt_PT            o alberto escreveu-me alguma coisa hoje\n",
            "20329    pt_PT                     qual é o endereço do alexandre\n",
            "\n",
            "[20330 rows x 2 columns]>\n",
            "['en_US' 'de_DE' 'hi_IN' 'es_ES' 'fr_FR' 'it_IT' 'ar_SA' 'nl_NL' 'ja_JP'\n",
            " 'pt_PT' 'tamil' 'kannanda' 'malayalam']\n"
          ]
        }
      ]
    },
    {
      "cell_type": "code",
      "source": [
        "language_mapping = {\n",
        "    'en_US': 'english',\n",
        "    'de_DE': 'german',\n",
        "    'hi_IN': 'hindi',\n",
        "    'es_ES': 'spanish',\n",
        "    'fr_FR': 'french',\n",
        "    'it_IT': 'italian',\n",
        "    'ar_SA': 'arabic',\n",
        "    'nl_NL': 'dutch',\n",
        "    'ja_JP': 'japanese',\n",
        "    'pt_PT': 'portuguese'\n",
        "}\n",
        "\n",
        "corpus_df['language'] = corpus_df['language'].replace(language_mapping)\n",
        "print(corpus_df['language'].unique())\n"
      ],
      "metadata": {
        "colab": {
          "base_uri": "https://localhost:8080/"
        },
        "id": "KwzgbYKbgAk9",
        "outputId": "19f585a1-efbf-4941-c7df-bb617893c1a9"
      },
      "execution_count": 11,
      "outputs": [
        {
          "output_type": "stream",
          "name": "stdout",
          "text": [
            "['english' 'german' 'hindi' 'spanish' 'french' 'italian' 'arabic' 'dutch'\n",
            " 'japanese' 'portuguese' 'tamil' 'kannanda' 'malayalam']\n"
          ]
        }
      ]
    },
    {
      "cell_type": "code",
      "source": [
        "# concatenate df_codemixed and corpus_df lengthwise\n",
        "corpus_df = pd.concat([corpus_df, df_codemixed], axis=0)\n",
        "print(corpus_df['language'].unique())"
      ],
      "metadata": {
        "colab": {
          "base_uri": "https://localhost:8080/"
        },
        "id": "FxcrY4BYdNWj",
        "outputId": "545dc008-f7fe-4b6c-b002-d7e70421be61"
      },
      "execution_count": 12,
      "outputs": [
        {
          "output_type": "stream",
          "name": "stdout",
          "text": [
            "['english' 'german' 'hindi' 'spanish' 'french' 'italian' 'arabic' 'dutch'\n",
            " 'japanese' 'portuguese' 'tamil' 'kannanda' 'malayalam']\n"
          ]
        }
      ]
    },
    {
      "cell_type": "code",
      "source": [
        "# equal datapoints across all languages\n",
        "min_samples_per_language = corpus_df.groupby('language')['text'].count().min()\n",
        "balanced_corpus_df = corpus_df.groupby('language').apply(lambda x: x.sample(min_samples_per_language, random_state=42)).reset_index(drop=True)\n",
        "\n",
        "# split data into train, validation, and test sets (60-20-20 split)\n",
        "train_df, temp_df = train_test_split(balanced_corpus_df, test_size=0.4, stratify=balanced_corpus_df['language'], random_state=42)\n",
        "val_df, test_df = train_test_split(temp_df, test_size=0.5, stratify=temp_df['language'], random_state=42)\n",
        "\n",
        "# print the distribution of datapoints per language in each split\n",
        "print(\"Train Data Distribution:\")\n",
        "print(train_df['language'].value_counts())\n",
        "print(\"\\nValidation Data Distribution:\")\n",
        "print(val_df['language'].value_counts())\n",
        "print(\"\\nTest Data Distribution:\")\n",
        "print(test_df['language'].value_counts())\n",
        "\n",
        "# # save\n",
        "# train_df.to_csv('train_data.csv', index=False)\n",
        "# val_df.to_csv('validation_data.csv', index=False)\n",
        "# test_df.to_csv('test_data.csv', index=False)\n"
      ],
      "metadata": {
        "colab": {
          "base_uri": "https://localhost:8080/"
        },
        "id": "tkI7ePd_hgC_",
        "outputId": "3076f6c4-57cc-4951-df2d-975d63b01cf3"
      },
      "execution_count": 13,
      "outputs": [
        {
          "output_type": "stream",
          "name": "stdout",
          "text": [
            "Train Data Distribution:\n",
            "language\n",
            "dutch         1220\n",
            "hindi         1220\n",
            "kannanda      1220\n",
            "japanese      1220\n",
            "german        1220\n",
            "malayalam     1220\n",
            "spanish       1220\n",
            "tamil         1220\n",
            "english       1220\n",
            "arabic        1220\n",
            "portuguese    1219\n",
            "french        1219\n",
            "italian       1219\n",
            "Name: count, dtype: int64\n",
            "\n",
            "Validation Data Distribution:\n",
            "language\n",
            "arabic        407\n",
            "spanish       407\n",
            "italian       407\n",
            "tamil         407\n",
            "german        407\n",
            "japanese      407\n",
            "portuguese    407\n",
            "french        407\n",
            "malayalam     406\n",
            "english       406\n",
            "kannanda      406\n",
            "hindi         406\n",
            "dutch         406\n",
            "Name: count, dtype: int64\n",
            "\n",
            "Test Data Distribution:\n",
            "language\n",
            "hindi         407\n",
            "english       407\n",
            "french        407\n",
            "italian       407\n",
            "kannanda      407\n",
            "dutch         407\n",
            "malayalam     407\n",
            "portuguese    407\n",
            "arabic        406\n",
            "tamil         406\n",
            "german        406\n",
            "spanish       406\n",
            "japanese      406\n",
            "Name: count, dtype: int64\n"
          ]
        }
      ]
    },
    {
      "cell_type": "code",
      "source": [
        "# uncomment and use this in case HF-pandas download doesn't work\n",
        "train_set = '/content/drive/My Drive/train_data.csv'\n",
        "val_set = '/content/drive/My Drive/validation_data.csv'\n",
        "test_set = '/content/drive/My Drive/test_data.csv'"
      ],
      "metadata": {
        "id": "ZkYIqH01ZEux"
      },
      "execution_count": 14,
      "outputs": []
    },
    {
      "cell_type": "code",
      "source": [
        "class TFIDFLanguageIdentifier:\n",
        "    def __init__(self, ngram_range=(1,3)): #using 1 to 3-grams\n",
        "        self.vectorizer = TfidfVectorizer(analyzer='char',\n",
        "                                          ngram_range=ngram_range,\n",
        "                                          use_idf=True)\n",
        "        self.classifier = MultinomialNB()\n",
        "\n",
        "    def fit(self, X, y):\n",
        "        X_tfidf = self.vectorizer.fit_transform(X)\n",
        "        self.classifier.fit(X_tfidf, y)\n",
        "\n",
        "    def predict(self, X):\n",
        "        X_tfidf = self.vectorizer.transform(X)\n",
        "        return self.classifier.predict(X_tfidf)\n",
        "\n",
        "    def predict_proba(self, X):\n",
        "        X_tfidf = self.vectorizer.transform(X)\n",
        "        return self.classifier.predict_proba(X_tfidf)\n",
        "\n",
        "    def get_top_features(self, language, n=10):\n",
        "        feature_names = self.vectorizer.get_feature_names_out()\n",
        "        tfidf_scores = self.vectorizer.idf_\n",
        "        language_idx = list(self.classifier.classes_).index(language)\n",
        "        class_prob = self.classifier.feature_log_prob_[language_idx]\n",
        "        top_indices = class_prob.argsort()[-n:][::-1]\n",
        "        return [(feature_names[i], tfidf_scores[i]) for i in top_indices]"
      ],
      "metadata": {
        "id": "ZotqzBau-_we"
      },
      "execution_count": 15,
      "outputs": []
    },
    {
      "cell_type": "code",
      "source": [
        "# initialize and train the model\n",
        "lid_model = TFIDFLanguageIdentifier()\n",
        "lid_model.fit(train_df['text'], train_df['language'])"
      ],
      "metadata": {
        "id": "ziJyx-ZJOWmE"
      },
      "execution_count": 16,
      "outputs": []
    },
    {
      "cell_type": "code",
      "source": [
        "# evaluate the model\n",
        "y_pred = lid_model.predict(test_df['text'])\n",
        "print(classification_report(test_df['language'], y_pred))\n"
      ],
      "metadata": {
        "colab": {
          "base_uri": "https://localhost:8080/"
        },
        "id": "CTBcx3HFQn5v",
        "outputId": "79e5a356-0bb9-44b0-d76c-6498e891a1d1"
      },
      "execution_count": 17,
      "outputs": [
        {
          "output_type": "stream",
          "name": "stdout",
          "text": [
            "              precision    recall  f1-score   support\n",
            "\n",
            "      arabic       1.00      0.97      0.98       406\n",
            "       dutch       0.96      0.96      0.96       407\n",
            "     english       0.82      0.98      0.89       407\n",
            "      french       0.98      0.98      0.98       407\n",
            "      german       0.96      0.97      0.97       406\n",
            "       hindi       1.00      1.00      1.00       407\n",
            "     italian       0.92      0.98      0.95       407\n",
            "    japanese       1.00      0.98      0.99       406\n",
            "    kannanda       0.97      0.73      0.84       407\n",
            "   malayalam       0.79      0.71      0.75       407\n",
            "  portuguese       0.98      0.94      0.96       407\n",
            "     spanish       0.95      0.96      0.95       406\n",
            "       tamil       0.63      0.73      0.68       406\n",
            "\n",
            "    accuracy                           0.91      5286\n",
            "   macro avg       0.92      0.91      0.91      5286\n",
            "weighted avg       0.92      0.91      0.91      5286\n",
            "\n"
          ]
        }
      ]
    },
    {
      "cell_type": "code",
      "source": [
        "# plot confusion matrix\n",
        "cm = confusion_matrix(test_df['language'], y_pred)\n",
        "plt.figure(figsize=(10, 8))\n",
        "sns.heatmap(cm, annot=True, fmt='d',cmap='Blues',\n",
        "            xticklabels=lid_model.classifier.classes_,\n",
        "            yticklabels=lid_model.classifier.classes_)\n",
        "plt.title('Confusion Matrix')\n",
        "plt.ylabel('True Label')\n",
        "plt.xlabel('Predicted Label')\n",
        "plt.tight_layout()\n",
        "plt.show()"
      ],
      "metadata": {
        "colab": {
          "base_uri": "https://localhost:8080/",
          "height": 807
        },
        "id": "HLs6LBaOZcPE",
        "outputId": "e01dfda0-89f8-4d7b-b58b-a601af5d4486"
      },
      "execution_count": 18,
      "outputs": [
        {
          "output_type": "display_data",
          "data": {
            "text/plain": [
              "<Figure size 1000x800 with 2 Axes>"
            ],
            "image/png": "[encoded data removed]"
          },
          "metadata": {}
        }
      ]
    },
    {
      "cell_type": "code",
      "source": [
        "# get misclassified examples\n",
        "X_test = test_df['text']\n",
        "y_test = test_df['language']\n",
        "y_pred_proba = lid_model.predict_proba(X_test)\n",
        "misclassified = X_test[y_test != y_pred]\n",
        "misclassified_true = y_test[y_test != y_pred]\n",
        "misclassified_pred = y_pred[y_test != y_pred]\n",
        "misclassified_proba = y_pred_proba[y_test != y_pred]\n",
        "\n",
        "# 5 misclassified examples\n",
        "print(\"\\n5 Misclassified Examples:\")\n",
        "for i in range(min(5, len(misclassified))):\n",
        "    print(f\"\\nExample {i+1}:\")\n",
        "    print(f\"Text: {misclassified.iloc[i][:100]}...\")  # Show first 100 characters\n",
        "    print(f\"True Language: {misclassified_true.iloc[i]}\")\n",
        "    print(f\"Predicted Language: {misclassified_pred[i]}\")\n",
        "    print(\"Class Probabilities:\")\n",
        "    for lang, prob in zip(lid_model.classifier.classes_, misclassified_proba[i]):\n",
        "        print(f\"  {lang}: {prob:.4f}\")"
      ],
      "metadata": {
        "colab": {
          "base_uri": "https://localhost:8080/"
        },
        "id": "82yQFhvjZqfC",
        "outputId": "1af4690f-e54c-47ea-c4d2-297d364584ef"
      },
      "execution_count": 19,
      "outputs": [
        {
          "output_type": "stream",
          "name": "stdout",
          "text": [
            "\n",
            "5 Misclassified Examples:\n",
            "\n",
            "Example 1:\n",
            "Text: Inghakk prayam 68ann  Prayam verum akangall enn thelikunna nadana vismayam...\n",
            "True Language: malayalam\n",
            "Predicted Language: tamil\n",
            "Class Probabilities:\n",
            "  arabic: 0.0000\n",
            "  dutch: 0.0009\n",
            "  english: 0.0006\n",
            "  french: 0.0001\n",
            "  german: 0.0007\n",
            "  hindi: 0.0000\n",
            "  italian: 0.0001\n",
            "  japanese: 0.0000\n",
            "  kannanda: 0.0155\n",
            "  malayalam: 0.3643\n",
            "  portuguese: 0.0001\n",
            "  spanish: 0.0002\n",
            "  tamil: 0.6174\n",
            "\n",
            "Example 2:\n",
            "Text: ààµààµààà à¹ààààààµààà àªà¾ààààà àµàààààà àªààà  àà¾àà_àà¾àà²à àµààààààààààà ààààà¾ààààààààààà àà¾àª...\n",
            "True Language: tamil\n",
            "Predicted Language: malayalam\n",
            "Class Probabilities:\n",
            "  arabic: 0.0000\n",
            "  dutch: 0.0000\n",
            "  english: 0.0000\n",
            "  french: 0.0000\n",
            "  german: 0.0000\n",
            "  hindi: 0.0000\n",
            "  italian: 0.0000\n",
            "  japanese: 0.0000\n",
            "  kannanda: 0.0009\n",
            "  malayalam: 0.8251\n",
            "  portuguese: 0.0000\n",
            "  spanish: 0.0000\n",
            "  tamil: 0.1739\n",
            "\n",
            "Example 3:\n",
            "Text: trailer  verunathin munbe ore kariym parayam   ee onam ettanum pillerum agade edukkuva...\n",
            "True Language: malayalam\n",
            "Predicted Language: tamil\n",
            "Class Probabilities:\n",
            "  arabic: 0.0000\n",
            "  dutch: 0.0014\n",
            "  english: 0.0007\n",
            "  french: 0.0002\n",
            "  german: 0.0011\n",
            "  hindi: 0.0000\n",
            "  italian: 0.0004\n",
            "  japanese: 0.0000\n",
            "  kannanda: 0.0032\n",
            "  malayalam: 0.4828\n",
            "  portuguese: 0.0007\n",
            "  spanish: 0.0002\n",
            "  tamil: 0.5093\n",
            "\n",
            "Example 4:\n",
            "Text: ààààªà àààààà¾ àààààª àààààªàà³àà³ààààààà¾à àààªà¾àµàààà¾ àààààà²à¾ àààààà²à àªààà àààààààààà ààªàà...\n",
            "True Language: tamil\n",
            "Predicted Language: malayalam\n",
            "Class Probabilities:\n",
            "  arabic: 0.0000\n",
            "  dutch: 0.0000\n",
            "  english: 0.0000\n",
            "  french: 0.0000\n",
            "  german: 0.0000\n",
            "  hindi: 0.0000\n",
            "  italian: 0.0000\n",
            "  japanese: 0.0000\n",
            "  kannanda: 0.0016\n",
            "  malayalam: 0.7551\n",
            "  portuguese: 0.0000\n",
            "  spanish: 0.0000\n",
            "  tamil: 0.2432\n",
            "\n",
            "Example 5:\n",
            "Text: O mareya ava chiranjeevi alla shaapa erutte...\n",
            "True Language: kannanda\n",
            "Predicted Language: tamil\n",
            "Class Probabilities:\n",
            "  arabic: 0.0000\n",
            "  dutch: 0.0021\n",
            "  english: 0.0039\n",
            "  french: 0.0037\n",
            "  german: 0.0010\n",
            "  hindi: 0.0000\n",
            "  italian: 0.0406\n",
            "  japanese: 0.0000\n",
            "  kannanda: 0.1531\n",
            "  malayalam: 0.1278\n",
            "  portuguese: 0.0097\n",
            "  spanish: 0.0130\n",
            "  tamil: 0.6451\n"
          ]
        }
      ]
    },
    {
      "cell_type": "markdown",
      "source": [
        "**BiLSTM Model using trigrams**\n",
        "\n",
        "This approach was inspired by [Toftrup et al.'s](https://aclanthology.org/2021.eacl-srw.6/) (2021) *A reproduction of Apple’s bi-directional LSTM models for language identification in short strings.*\n",
        "\n",
        "How much does word-order matter? I trained and tested a biLSTM model, better-equiped to handle sequential data like written text. I found that it improves on the above Naive Bayes classifier by only 0.01% on my 13-class dataset."
      ],
      "metadata": {
        "id": "Nj6jVG_9kIb8"
      }
    },
    {
      "cell_type": "code",
      "source": [
        "import torch\n",
        "import torch.nn as nn\n",
        "import torch.optim as optim\n",
        "from torch.utils.data import Dataset, DataLoader\n",
        "from sklearn.preprocessing import LabelEncoder\n",
        "from collections import Counter\n",
        "from tqdm import tqdm"
      ],
      "metadata": {
        "id": "jy1X0BTo_-MF"
      },
      "execution_count": 20,
      "outputs": []
    },
    {
      "cell_type": "code",
      "source": [
        "# create character n-grams\n",
        "def create_char_ngrams(text, n=3): #change to bigrams or unigrams if needed\n",
        "    return [text[i:i+n] for i in range(len(text)-n+1)]"
      ],
      "metadata": {
        "id": "Xw8W6iRPK4Qi"
      },
      "execution_count": 21,
      "outputs": []
    },
    {
      "cell_type": "code",
      "source": [
        "# create vocabulary of character n-grams\n",
        "def create_ngram_vocabulary(texts, n=2, max_ngrams=10000):\n",
        "    ngram_counts = Counter()\n",
        "    for text in texts:\n",
        "        ngram_counts.update(create_char_ngrams(text, n))\n",
        "    return ['<PAD>', '<UNK>'] + [ngram for ngram, _ in ngram_counts.most_common(max_ngrams - 2)]\n"
      ],
      "metadata": {
        "id": "JKO76Ld4LCdS"
      },
      "execution_count": 22,
      "outputs": []
    },
    {
      "cell_type": "code",
      "source": [
        "# combine all texts for vocabulary creation\n",
        "all_texts = pd.concat([train_df['text'], val_df['text'], test_df['text']])\n",
        "\n",
        "# create vocabulary of character n-grams\n",
        "n = 2\n",
        "vocab = create_ngram_vocabulary(all_texts, n)\n",
        "ngram_to_idx = {ngram: idx for idx, ngram in enumerate(vocab)}\n",
        "\n",
        "# encode labels\n",
        "label_encoder = LabelEncoder()\n",
        "label_encoder.fit(train_df['language'])\n"
      ],
      "metadata": {
        "colab": {
          "base_uri": "https://localhost:8080/",
          "height": 79
        },
        "id": "t8Oz2vztLFGU",
        "outputId": "99c4924e-adf3-4c3b-daee-25ddb713f61d"
      },
      "execution_count": 23,
      "outputs": [
        {
          "output_type": "execute_result",
          "data": {
            "text/plain": [
              "LabelEncoder()"
            ],
            "text/html": [
              "<style>#sk-container-id-1 {\n",
              "  /* Definition of color scheme common for light and dark mode */\n",
              "  --sklearn-color-text: black;\n",
              "  --sklearn-color-line: gray;\n",
              "  /* Definition of color scheme for unfitted estimators */\n",
              "  --sklearn-color-unfitted-level-0: #fff5e6;\n",
              "  --sklearn-color-unfitted-level-1: #f6e4d2;\n",
              "  --sklearn-color-unfitted-level-2: #ffe0b3;\n",
              "  --sklearn-color-unfitted-level-3: chocolate;\n",
              "  /* Definition of color scheme for fitted estimators */\n",
              "  --sklearn-color-fitted-level-0: #f0f8ff;\n",
              "  --sklearn-color-fitted-level-1: #d4ebff;\n",
              "  --sklearn-color-fitted-level-2: #b3dbfd;\n",
              "  --sklearn-color-fitted-level-3: cornflowerblue;\n",
              "\n",
              "  /* Specific color for light theme */\n",
              "  --sklearn-color-text-on-default-background: var(--sg-text-color, var(--theme-code-foreground, var(--jp-content-font-color1, black)));\n",
              "  --sklearn-color-background: var(--sg-background-color, var(--theme-background, var(--jp-layout-color0, white)));\n",
              "  --sklearn-color-border-box: var(--sg-text-color, var(--theme-code-foreground, var(--jp-content-font-color1, black)));\n",
              "  --sklearn-color-icon: #696969;\n",
              "\n",
              "  @media (prefers-color-scheme: dark) {\n",
              "    /* Redefinition of color scheme for dark theme */\n",
              "    --sklearn-color-text-on-default-background: var(--sg-text-color, var(--theme-code-foreground, var(--jp-content-font-color1, white)));\n",
              "    --sklearn-color-background: var(--sg-background-color, var(--theme-background, var(--jp-layout-color0, #111)));\n",
              "    --sklearn-color-border-box: var(--sg-text-color, var(--theme-code-foreground, var(--jp-content-font-color1, white)));\n",
              "    --sklearn-color-icon: #878787;\n",
              "  }\n",
              "}\n",
              "\n",
              "#sk-container-id-1 {\n",
              "  color: var(--sklearn-color-text);\n",
              "}\n",
              "\n",
              "#sk-container-id-1 pre {\n",
              "  padding: 0;\n",
              "}\n",
              "\n",
              "#sk-container-id-1 input.sk-hidden--visually {\n",
              "  border: 0;\n",
              "  clip: rect(1px 1px 1px 1px);\n",
              "  clip: rect(1px, 1px, 1px, 1px);\n",
              "  height: 1px;\n",
              "  margin: -1px;\n",
              "  overflow: hidden;\n",
              "  padding: 0;\n",
              "  position: absolute;\n",
              "  width: 1px;\n",
              "}\n",
              "\n",
              "#sk-container-id-1 div.sk-dashed-wrapped {\n",
              "  border: 1px dashed var(--sklearn-color-line);\n",
              "  margin: 0 0.4em 0.5em 0.4em;\n",
              "  box-sizing: border-box;\n",
              "  padding-bottom: 0.4em;\n",
              "  background-color: var(--sklearn-color-background);\n",
              "}\n",
              "\n",
              "#sk-container-id-1 div.sk-container {\n",
              "  /* jupyter's `normalize.less` sets `[hidden] { display: none; }`\n",
              "     but bootstrap.min.css set `[hidden] { display: none !important; }`\n",
              "     so we also need the `!important` here to be able to override the\n",
              "     default hidden behavior on the sphinx rendered scikit-learn.org.\n",
              "     See: https://github.com/scikit-learn/scikit-learn/issues/21755 */\n",
              "  display: inline-block !important;\n",
              "  position: relative;\n",
              "}\n",
              "\n",
              "#sk-container-id-1 div.sk-text-repr-fallback {\n",
              "  display: none;\n",
              "}\n",
              "\n",
              "div.sk-parallel-item,\n",
              "div.sk-serial,\n",
              "div.sk-item {\n",
              "  /* draw centered vertical line to link estimators */\n",
              "  background-image: linear-gradient(var(--sklearn-color-text-on-default-background), var(--sklearn-color-text-on-default-background));\n",
              "  background-size: 2px 100%;\n",
              "  background-repeat: no-repeat;\n",
              "  background-position: center center;\n",
              "}\n",
              "\n",
              "/* Parallel-specific style estimator block */\n",
              "\n",
              "#sk-container-id-1 div.sk-parallel-item::after {\n",
              "  content: \"\";\n",
              "  width: 100%;\n",
              "  border-bottom: 2px solid var(--sklearn-color-text-on-default-background);\n",
              "  flex-grow: 1;\n",
              "}\n",
              "\n",
              "#sk-container-id-1 div.sk-parallel {\n",
              "  display: flex;\n",
              "  align-items: stretch;\n",
              "  justify-content: center;\n",
              "  background-color: var(--sklearn-color-background);\n",
              "  position: relative;\n",
              "}\n",
              "\n",
              "#sk-container-id-1 div.sk-parallel-item {\n",
              "  display: flex;\n",
              "  flex-direction: column;\n",
              "}\n",
              "\n",
              "#sk-container-id-1 div.sk-parallel-item:first-child::after {\n",
              "  align-self: flex-end;\n",
              "  width: 50%;\n",
              "}\n",
              "\n",
              "#sk-container-id-1 div.sk-parallel-item:last-child::after {\n",
              "  align-self: flex-start;\n",
              "  width: 50%;\n",
              "}\n",
              "\n",
              "#sk-container-id-1 div.sk-parallel-item:only-child::after {\n",
              "  width: 0;\n",
              "}\n",
              "\n",
              "/* Serial-specific style estimator block */\n",
              "\n",
              "#sk-container-id-1 div.sk-serial {\n",
              "  display: flex;\n",
              "  flex-direction: column;\n",
              "  align-items: center;\n",
              "  background-color: var(--sklearn-color-background);\n",
              "  padding-right: 1em;\n",
              "  padding-left: 1em;\n",
              "}\n",
              "\n",
              "\n",
              "/* Toggleable style: style used for estimator/Pipeline/ColumnTransformer box that is\n",
              "clickable and can be expanded/collapsed.\n",
              "- Pipeline and ColumnTransformer use this feature and define the default style\n",
              "- Estimators will overwrite some part of the style using the `sk-estimator` class\n",
              "*/\n",
              "\n",
              "/* Pipeline and ColumnTransformer style (default) */\n",
              "\n",
              "#sk-container-id-1 div.sk-toggleable {\n",
              "  /* Default theme specific background. It is overwritten whether we have a\n",
              "  specific estimator or a Pipeline/ColumnTransformer */\n",
              "  background-color: var(--sklearn-color-background);\n",
              "}\n",
              "\n",
              "/* Toggleable label */\n",
              "#sk-container-id-1 label.sk-toggleable__label {\n",
              "  cursor: pointer;\n",
              "  display: block;\n",
              "  width: 100%;\n",
              "  margin-bottom: 0;\n",
              "  padding: 0.5em;\n",
              "  box-sizing: border-box;\n",
              "  text-align: center;\n",
              "}\n",
              "\n",
              "#sk-container-id-1 label.sk-toggleable__label-arrow:before {\n",
              "  /* Arrow on the left of the label */\n",
              "  content: \"▸\";\n",
              "  float: left;\n",
              "  margin-right: 0.25em;\n",
              "  color: var(--sklearn-color-icon);\n",
              "}\n",
              "\n",
              "#sk-container-id-1 label.sk-toggleable__label-arrow:hover:before {\n",
              "  color: var(--sklearn-color-text);\n",
              "}\n",
              "\n",
              "/* Toggleable content - dropdown */\n",
              "\n",
              "#sk-container-id-1 div.sk-toggleable__content {\n",
              "  max-height: 0;\n",
              "  max-width: 0;\n",
              "  overflow: hidden;\n",
              "  text-align: left;\n",
              "  /* unfitted */\n",
              "  background-color: var(--sklearn-color-unfitted-level-0);\n",
              "}\n",
              "\n",
              "#sk-container-id-1 div.sk-toggleable__content.fitted {\n",
              "  /* fitted */\n",
              "  background-color: var(--sklearn-color-fitted-level-0);\n",
              "}\n",
              "\n",
              "#sk-container-id-1 div.sk-toggleable__content pre {\n",
              "  margin: 0.2em;\n",
              "  border-radius: 0.25em;\n",
              "  color: var(--sklearn-color-text);\n",
              "  /* unfitted */\n",
              "  background-color: var(--sklearn-color-unfitted-level-0);\n",
              "}\n",
              "\n",
              "#sk-container-id-1 div.sk-toggleable__content.fitted pre {\n",
              "  /* unfitted */\n",
              "  background-color: var(--sklearn-color-fitted-level-0);\n",
              "}\n",
              "\n",
              "#sk-container-id-1 input.sk-toggleable__control:checked~div.sk-toggleable__content {\n",
              "  /* Expand drop-down */\n",
              "  max-height: 200px;\n",
              "  max-width: 100%;\n",
              "  overflow: auto;\n",
              "}\n",
              "\n",
              "#sk-container-id-1 input.sk-toggleable__control:checked~label.sk-toggleable__label-arrow:before {\n",
              "  content: \"▾\";\n",
              "}\n",
              "\n",
              "/* Pipeline/ColumnTransformer-specific style */\n",
              "\n",
              "#sk-container-id-1 div.sk-label input.sk-toggleable__control:checked~label.sk-toggleable__label {\n",
              "  color: var(--sklearn-color-text);\n",
              "  background-color: var(--sklearn-color-unfitted-level-2);\n",
              "}\n",
              "\n",
              "#sk-container-id-1 div.sk-label.fitted input.sk-toggleable__control:checked~label.sk-toggleable__label {\n",
              "  background-color: var(--sklearn-color-fitted-level-2);\n",
              "}\n",
              "\n",
              "/* Estimator-specific style */\n",
              "\n",
              "/* Colorize estimator box */\n",
              "#sk-container-id-1 div.sk-estimator input.sk-toggleable__control:checked~label.sk-toggleable__label {\n",
              "  /* unfitted */\n",
              "  background-color: var(--sklearn-color-unfitted-level-2);\n",
              "}\n",
              "\n",
              "#sk-container-id-1 div.sk-estimator.fitted input.sk-toggleable__control:checked~label.sk-toggleable__label {\n",
              "  /* fitted */\n",
              "  background-color: var(--sklearn-color-fitted-level-2);\n",
              "}\n",
              "\n",
              "#sk-container-id-1 div.sk-label label.sk-toggleable__label,\n",
              "#sk-container-id-1 div.sk-label label {\n",
              "  /* The background is the default theme color */\n",
              "  color: var(--sklearn-color-text-on-default-background);\n",
              "}\n",
              "\n",
              "/* On hover, darken the color of the background */\n",
              "#sk-container-id-1 div.sk-label:hover label.sk-toggleable__label {\n",
              "  color: var(--sklearn-color-text);\n",
              "  background-color: var(--sklearn-color-unfitted-level-2);\n",
              "}\n",
              "\n",
              "/* Label box, darken color on hover, fitted */\n",
              "#sk-container-id-1 div.sk-label.fitted:hover label.sk-toggleable__label.fitted {\n",
              "  color: var(--sklearn-color-text);\n",
              "  background-color: var(--sklearn-color-fitted-level-2);\n",
              "}\n",
              "\n",
              "/* Estimator label */\n",
              "\n",
              "#sk-container-id-1 div.sk-label label {\n",
              "  font-family: monospace;\n",
              "  font-weight: bold;\n",
              "  display: inline-block;\n",
              "  line-height: 1.2em;\n",
              "}\n",
              "\n",
              "#sk-container-id-1 div.sk-label-container {\n",
              "  text-align: center;\n",
              "}\n",
              "\n",
              "/* Estimator-specific */\n",
              "#sk-container-id-1 div.sk-estimator {\n",
              "  font-family: monospace;\n",
              "  border: 1px dotted var(--sklearn-color-border-box);\n",
              "  border-radius: 0.25em;\n",
              "  box-sizing: border-box;\n",
              "  margin-bottom: 0.5em;\n",
              "  /* unfitted */\n",
              "  background-color: var(--sklearn-color-unfitted-level-0);\n",
              "}\n",
              "\n",
              "#sk-container-id-1 div.sk-estimator.fitted {\n",
              "  /* fitted */\n",
              "  background-color: var(--sklearn-color-fitted-level-0);\n",
              "}\n",
              "\n",
              "/* on hover */\n",
              "#sk-container-id-1 div.sk-estimator:hover {\n",
              "  /* unfitted */\n",
              "  background-color: var(--sklearn-color-unfitted-level-2);\n",
              "}\n",
              "\n",
              "#sk-container-id-1 div.sk-estimator.fitted:hover {\n",
              "  /* fitted */\n",
              "  background-color: var(--sklearn-color-fitted-level-2);\n",
              "}\n",
              "\n",
              "/* Specification for estimator info (e.g. \"i\" and \"?\") */\n",
              "\n",
              "/* Common style for \"i\" and \"?\" */\n",
              "\n",
              ".sk-estimator-doc-link,\n",
              "a:link.sk-estimator-doc-link,\n",
              "a:visited.sk-estimator-doc-link {\n",
              "  float: right;\n",
              "  font-size: smaller;\n",
              "  line-height: 1em;\n",
              "  font-family: monospace;\n",
              "  background-color: var(--sklearn-color-background);\n",
              "  border-radius: 1em;\n",
              "  height: 1em;\n",
              "  width: 1em;\n",
              "  text-decoration: none !important;\n",
              "  margin-left: 1ex;\n",
              "  /* unfitted */\n",
              "  border: var(--sklearn-color-unfitted-level-1) 1pt solid;\n",
              "  color: var(--sklearn-color-unfitted-level-1);\n",
              "}\n",
              "\n",
              ".sk-estimator-doc-link.fitted,\n",
              "a:link.sk-estimator-doc-link.fitted,\n",
              "a:visited.sk-estimator-doc-link.fitted {\n",
              "  /* fitted */\n",
              "  border: var(--sklearn-color-fitted-level-1) 1pt solid;\n",
              "  color: var(--sklearn-color-fitted-level-1);\n",
              "}\n",
              "\n",
              "/* On hover */\n",
              "div.sk-estimator:hover .sk-estimator-doc-link:hover,\n",
              ".sk-estimator-doc-link:hover,\n",
              "div.sk-label-container:hover .sk-estimator-doc-link:hover,\n",
              ".sk-estimator-doc-link:hover {\n",
              "  /* unfitted */\n",
              "  background-color: var(--sklearn-color-unfitted-level-3);\n",
              "  color: var(--sklearn-color-background);\n",
              "  text-decoration: none;\n",
              "}\n",
              "\n",
              "div.sk-estimator.fitted:hover .sk-estimator-doc-link.fitted:hover,\n",
              ".sk-estimator-doc-link.fitted:hover,\n",
              "div.sk-label-container:hover .sk-estimator-doc-link.fitted:hover,\n",
              ".sk-estimator-doc-link.fitted:hover {\n",
              "  /* fitted */\n",
              "  background-color: var(--sklearn-color-fitted-level-3);\n",
              "  color: var(--sklearn-color-background);\n",
              "  text-decoration: none;\n",
              "}\n",
              "\n",
              "/* Span, style for the box shown on hovering the info icon */\n",
              ".sk-estimator-doc-link span {\n",
              "  display: none;\n",
              "  z-index: 9999;\n",
              "  position: relative;\n",
              "  font-weight: normal;\n",
              "  right: .2ex;\n",
              "  padding: .5ex;\n",
              "  margin: .5ex;\n",
              "  width: min-content;\n",
              "  min-width: 20ex;\n",
              "  max-width: 50ex;\n",
              "  color: var(--sklearn-color-text);\n",
              "  box-shadow: 2pt 2pt 4pt #999;\n",
              "  /* unfitted */\n",
              "  background: var(--sklearn-color-unfitted-level-0);\n",
              "  border: .5pt solid var(--sklearn-color-unfitted-level-3);\n",
              "}\n",
              "\n",
              ".sk-estimator-doc-link.fitted span {\n",
              "  /* fitted */\n",
              "  background: var(--sklearn-color-fitted-level-0);\n",
              "  border: var(--sklearn-color-fitted-level-3);\n",
              "}\n",
              "\n",
              ".sk-estimator-doc-link:hover span {\n",
              "  display: block;\n",
              "}\n",
              "\n",
              "/* \"?\"-specific style due to the `<a>` HTML tag */\n",
              "\n",
              "#sk-container-id-1 a.estimator_doc_link {\n",
              "  float: right;\n",
              "  font-size: 1rem;\n",
              "  line-height: 1em;\n",
              "  font-family: monospace;\n",
              "  background-color: var(--sklearn-color-background);\n",
              "  border-radius: 1rem;\n",
              "  height: 1rem;\n",
              "  width: 1rem;\n",
              "  text-decoration: none;\n",
              "  /* unfitted */\n",
              "  color: var(--sklearn-color-unfitted-level-1);\n",
              "  border: var(--sklearn-color-unfitted-level-1) 1pt solid;\n",
              "}\n",
              "\n",
              "#sk-container-id-1 a.estimator_doc_link.fitted {\n",
              "  /* fitted */\n",
              "  border: var(--sklearn-color-fitted-level-1) 1pt solid;\n",
              "  color: var(--sklearn-color-fitted-level-1);\n",
              "}\n",
              "\n",
              "/* On hover */\n",
              "#sk-container-id-1 a.estimator_doc_link:hover {\n",
              "  /* unfitted */\n",
              "  background-color: var(--sklearn-color-unfitted-level-3);\n",
              "  color: var(--sklearn-color-background);\n",
              "  text-decoration: none;\n",
              "}\n",
              "\n",
              "#sk-container-id-1 a.estimator_doc_link.fitted:hover {\n",
              "  /* fitted */\n",
              "  background-color: var(--sklearn-color-fitted-level-3);\n",
              "}\n",
              "</style><div id=\"sk-container-id-1\" class=\"sk-top-container\"><div class=\"sk-text-repr-fallback\"><pre>LabelEncoder()</pre><b>In a Jupyter environment, please rerun this cell to show the HTML representation or trust the notebook. <br />On GitHub, the HTML representation is unable to render, please try loading this page with nbviewer.org.</b></div><div class=\"sk-container\" hidden><div class=\"sk-item\"><div class=\"sk-estimator fitted sk-toggleable\"><input class=\"sk-toggleable__control sk-hidden--visually\" id=\"sk-estimator-id-1\" type=\"checkbox\" checked><label for=\"sk-estimator-id-1\" class=\"sk-toggleable__label fitted sk-toggleable__label-arrow fitted\">&nbsp;&nbsp;LabelEncoder<a class=\"sk-estimator-doc-link fitted\" rel=\"noreferrer\" target=\"_blank\" href=\"https://scikit-learn.org/1.5/modules/generated/sklearn.preprocessing.LabelEncoder.html\">?<span>Documentation for LabelEncoder</span></a><span class=\"sk-estimator-doc-link fitted\">i<span>Fitted</span></span></label><div class=\"sk-toggleable__content fitted\"><pre>LabelEncoder()</pre></div> </div></div></div></div>"
            ]
          },
          "metadata": {},
          "execution_count": 23
        }
      ]
    },
    {
      "cell_type": "code",
      "source": [
        "# data loader prep for character n-grams\n",
        "class CharNgramDataset(Dataset):\n",
        "    def __init__(self, texts, labels, ngram_to_idx, n=2, max_length=120):\n",
        "        self.texts = texts\n",
        "        self.labels = label_encoder.transform(labels)\n",
        "        self.ngram_to_idx = ngram_to_idx\n",
        "        self.n = n\n",
        "        self.max_length = max_length\n",
        "\n",
        "    def __len__(self):\n",
        "        return len(self.texts)\n",
        "\n",
        "    def __getitem__(self, idx):\n",
        "        ngrams = create_char_ngrams(self.texts.iloc[idx], self.n)\n",
        "        encoded = [self.ngram_to_idx.get(ngram, self.ngram_to_idx['<UNK>']) for ngram in ngrams[:self.max_length]]\n",
        "        encoded = encoded + [self.ngram_to_idx['<PAD>']] * (self.max_length - len(encoded))\n",
        "        return torch.tensor(encoded), torch.tensor(self.labels[idx])\n"
      ],
      "metadata": {
        "id": "DPRKmx35LQiF"
      },
      "execution_count": 24,
      "outputs": []
    },
    {
      "cell_type": "code",
      "source": [
        "# create datasets and dataloaders\n",
        "train_dataset = CharNgramDataset(train_df['text'], train_df['language'], ngram_to_idx, n)\n",
        "val_dataset = CharNgramDataset(val_df['text'], val_df['language'], ngram_to_idx, n)\n",
        "test_dataset = CharNgramDataset(test_df['text'], test_df['language'], ngram_to_idx, n)\n",
        "\n",
        "batch_size = 32 # hparam\n",
        "train_loader = DataLoader(train_dataset, batch_size=batch_size, shuffle=True)\n",
        "val_loader = DataLoader(val_dataset, batch_size=batch_size)\n",
        "test_loader = DataLoader(test_dataset, batch_size=batch_size)\n"
      ],
      "metadata": {
        "id": "602B6IgXLTai"
      },
      "execution_count": 25,
      "outputs": []
    },
    {
      "cell_type": "code",
      "source": [
        "# biLSTM model\n",
        "class CharNgramBiLSTM(nn.Module):\n",
        "    def __init__(self, vocab_size, embed_size, hidden_size, output_size, num_layers=1, dropout=0.2):\n",
        "        super(CharNgramBiLSTM, self).__init__()\n",
        "        self.embedding = nn.Embedding(vocab_size, embed_size)\n",
        "        self.lstm = nn.LSTM(embed_size, hidden_size, num_layers=num_layers, batch_first=True, bidirectional=True, dropout=dropout)\n",
        "        self.fc = nn.Linear(hidden_size * 2, output_size)  # * 2 for bidirectional\n",
        "\n",
        "    def forward(self, x):\n",
        "        embedded = self.embedding(x)\n",
        "        output, (hidden, cell) = self.lstm(embedded)\n",
        "\n",
        "        # concatenate the final hidden states from both directions\n",
        "        hidden_cat = torch.cat((hidden[-2,:,:], hidden[-1,:,:]), dim=1)\n",
        "        return self.fc(hidden_cat)\n"
      ],
      "metadata": {
        "id": "3OjoWk4DLYBI"
      },
      "execution_count": 26,
      "outputs": []
    },
    {
      "cell_type": "code",
      "source": [
        "# hparams\n",
        "vocab_size = len(vocab)\n",
        "embed_size = 50\n",
        "hidden_size = 128\n",
        "output_size = len(label_encoder.classes_)\n",
        "num_layers = 2\n",
        "dropout = 0.2\n",
        "learning_rate = 0.001\n",
        "num_epochs = 10"
      ],
      "metadata": {
        "id": "grkEzJtZLzxB"
      },
      "execution_count": 27,
      "outputs": []
    },
    {
      "cell_type": "code",
      "source": [
        "# initialize the model, loss function, and optimizer\n",
        "device = torch.device('cuda' if torch.cuda.is_available() else 'cpu')\n",
        "model = CharNgramBiLSTM(vocab_size, embed_size, hidden_size, output_size, num_layers, dropout).to(device)\n",
        "criterion = nn.CrossEntropyLoss()\n",
        "optimizer = optim.Adam(model.parameters(), lr=learning_rate)\n"
      ],
      "metadata": {
        "id": "I7W4tQ7GL2K2"
      },
      "execution_count": 28,
      "outputs": []
    },
    {
      "cell_type": "code",
      "source": [
        "# training loop\n",
        "for epoch in tqdm(range(num_epochs)):\n",
        "    model.train()\n",
        "    train_loss = 0\n",
        "    for batch_idx, (data, target) in enumerate(train_loader):\n",
        "        data, target = data.to(device), target.to(device)\n",
        "        optimizer.zero_grad()\n",
        "        output = model(data)\n",
        "        loss = criterion(output, target)\n",
        "        loss.backward()\n",
        "        optimizer.step()\n",
        "        train_loss += loss.item()\n",
        "\n",
        "    # evalutaion\n",
        "    model.eval()\n",
        "    val_loss = 0\n",
        "    correct = 0\n",
        "    with torch.no_grad():\n",
        "        for data, target in val_loader:\n",
        "            data, target = data.to(device), target.to(device)\n",
        "            output = model(data)\n",
        "            val_loss += criterion(output, target).item()\n",
        "            pred = output.argmax(dim=1, keepdim=True)\n",
        "            correct += pred.eq(target.view_as(pred)).sum().item()\n",
        "\n",
        "    val_loss /= len(val_loader)\n",
        "    accuracy = correct / len(val_dataset)\n",
        "\n",
        "    print(f'Epoch {epoch+1}/{num_epochs}, Train Loss: {train_loss/len(train_loader):.4f}, '\n",
        "          f'Val Loss: {val_loss:.4f}, Val Accuracy: {accuracy:.4f}')\n"
      ],
      "metadata": {
        "colab": {
          "base_uri": "https://localhost:8080/"
        },
        "id": "VPaaVArcL4xs",
        "outputId": "4f7382aa-dead-4403-dfc3-999c545671a6"
      },
      "execution_count": 29,
      "outputs": [
        {
          "output_type": "stream",
          "name": "stderr",
          "text": [
            " 10%|█         | 1/10 [00:07<01:09,  7.70s/it]"
          ]
        },
        {
          "output_type": "stream",
          "name": "stdout",
          "text": [
            "Epoch 1/10, Train Loss: 1.2043, Val Loss: 0.6284, Val Accuracy: 0.7777\n"
          ]
        },
        {
          "output_type": "stream",
          "name": "stderr",
          "text": [
            "\r 20%|██        | 2/10 [00:13<00:52,  6.61s/it]"
          ]
        },
        {
          "output_type": "stream",
          "name": "stdout",
          "text": [
            "Epoch 2/10, Train Loss: 0.4933, Val Loss: 0.4531, Val Accuracy: 0.8494\n"
          ]
        },
        {
          "output_type": "stream",
          "name": "stderr",
          "text": [
            "\r 30%|███       | 3/10 [00:19<00:45,  6.53s/it]"
          ]
        },
        {
          "output_type": "stream",
          "name": "stdout",
          "text": [
            "Epoch 3/10, Train Loss: 0.3114, Val Loss: 0.3492, Val Accuracy: 0.8865\n"
          ]
        },
        {
          "output_type": "stream",
          "name": "stderr",
          "text": [
            "\r 40%|████      | 4/10 [00:25<00:37,  6.20s/it]"
          ]
        },
        {
          "output_type": "stream",
          "name": "stdout",
          "text": [
            "Epoch 4/10, Train Loss: 0.2175, Val Loss: 0.2943, Val Accuracy: 0.9065\n"
          ]
        },
        {
          "output_type": "stream",
          "name": "stderr",
          "text": [
            "\r 50%|█████     | 5/10 [00:30<00:29,  5.89s/it]"
          ]
        },
        {
          "output_type": "stream",
          "name": "stdout",
          "text": [
            "Epoch 5/10, Train Loss: 0.1573, Val Loss: 0.2978, Val Accuracy: 0.9098\n"
          ]
        },
        {
          "output_type": "stream",
          "name": "stderr",
          "text": [
            "\r 60%|██████    | 6/10 [00:36<00:23,  5.81s/it]"
          ]
        },
        {
          "output_type": "stream",
          "name": "stdout",
          "text": [
            "Epoch 6/10, Train Loss: 0.1306, Val Loss: 0.2653, Val Accuracy: 0.9171\n"
          ]
        },
        {
          "output_type": "stream",
          "name": "stderr",
          "text": [
            "\r 70%|███████   | 7/10 [00:42<00:17,  5.73s/it]"
          ]
        },
        {
          "output_type": "stream",
          "name": "stdout",
          "text": [
            "Epoch 7/10, Train Loss: 0.1016, Val Loss: 0.2643, Val Accuracy: 0.9188\n"
          ]
        },
        {
          "output_type": "stream",
          "name": "stderr",
          "text": [
            "\r 80%|████████  | 8/10 [00:50<00:13,  6.53s/it]"
          ]
        },
        {
          "output_type": "stream",
          "name": "stdout",
          "text": [
            "Epoch 8/10, Train Loss: 0.0797, Val Loss: 0.2563, Val Accuracy: 0.9279\n"
          ]
        },
        {
          "output_type": "stream",
          "name": "stderr",
          "text": [
            "\r 90%|█████████ | 9/10 [00:58<00:06,  6.86s/it]"
          ]
        },
        {
          "output_type": "stream",
          "name": "stdout",
          "text": [
            "Epoch 9/10, Train Loss: 0.0699, Val Loss: 0.2601, Val Accuracy: 0.9245\n"
          ]
        },
        {
          "output_type": "stream",
          "name": "stderr",
          "text": [
            "100%|██████████| 10/10 [01:03<00:00,  6.36s/it]"
          ]
        },
        {
          "output_type": "stream",
          "name": "stdout",
          "text": [
            "Epoch 10/10, Train Loss: 0.0490, Val Loss: 0.2587, Val Accuracy: 0.9296\n"
          ]
        },
        {
          "output_type": "stream",
          "name": "stderr",
          "text": [
            "\n"
          ]
        }
      ]
    },
    {
      "cell_type": "code",
      "source": [
        "# save the model\n",
        "def save_model(model, filepath):\n",
        "    torch.save(model.state_dict(), filepath)\n",
        "    print(f\"Model saved to {filepath}\")"
      ],
      "metadata": {
        "id": "Geqp5CSYO0uR"
      },
      "execution_count": 30,
      "outputs": []
    },
    {
      "cell_type": "code",
      "source": [
        "# load the model to test again if necessary\n",
        "def load_model(model, filepath):\n",
        "    model.load_state_dict(torch.load(filepath))\n",
        "    model.eval()\n",
        "    print(f\"Model loaded from {filepath}\")\n",
        "    return model"
      ],
      "metadata": {
        "id": "8SZYTOm7O1fU"
      },
      "execution_count": 31,
      "outputs": []
    },
    {
      "cell_type": "code",
      "source": [
        "# Save the trained model\n",
        "save_model(model, 'bilstm_lid.pth')"
      ],
      "metadata": {
        "colab": {
          "base_uri": "https://localhost:8080/"
        },
        "id": "2bZsvy4OO4q1",
        "outputId": "01c0f959-828c-4b78-f75d-44ee83c667c0"
      },
      "execution_count": 32,
      "outputs": [
        {
          "output_type": "stream",
          "name": "stdout",
          "text": [
            "Model saved to bilstm_lid.pth\n"
          ]
        }
      ]
    },
    {
      "cell_type": "code",
      "source": [
        "loaded_model = CharNgramBiLSTM(vocab_size, embed_size, hidden_size, output_size, num_layers, dropout).to(device)\n",
        "loaded_model = load_model(loaded_model, 'bilstm_lid.pth')"
      ],
      "metadata": {
        "colab": {
          "base_uri": "https://localhost:8080/"
        },
        "id": "sMV2wtK8O_nX",
        "outputId": "0fc91b7f-fd08-468d-a8dd-7f9687f9f251"
      },
      "execution_count": 33,
      "outputs": [
        {
          "output_type": "stream",
          "name": "stdout",
          "text": [
            "Model loaded from bilstm_lid.pth\n"
          ]
        },
        {
          "output_type": "stream",
          "name": "stderr",
          "text": [
            "<ipython-input-31-080fcf4378bf>:3: FutureWarning: You are using `torch.load` with `weights_only=False` (the current default value), which uses the default pickle module implicitly. It is possible to construct malicious pickle data which will execute arbitrary code during unpickling (See https://github.com/pytorch/pytorch/blob/main/SECURITY.md#untrusted-models for more details). In a future release, the default value for `weights_only` will be flipped to `True`. This limits the functions that could be executed during unpickling. Arbitrary objects will no longer be allowed to be loaded via this mode unless they are explicitly allowlisted by the user via `torch.serialization.add_safe_globals`. We recommend you start setting `weights_only=True` for any use case where you don't have full control of the loaded file. Please open an issue on GitHub for any issues related to this experimental feature.\n",
            "  model.load_state_dict(torch.load(filepath))\n"
          ]
        }
      ]
    },
    {
      "cell_type": "code",
      "source": [
        "# get predictions and true labels\n",
        "def get_predictions(model, data_loader):\n",
        "    model.eval()\n",
        "    all_predictions = []\n",
        "    all_labels = []\n",
        "    with torch.no_grad():\n",
        "        for data, target in data_loader:\n",
        "            data, target = data.to(device), target.to(device)\n",
        "            output = model(data)\n",
        "            predictions = output.argmax(dim=1)\n",
        "            all_predictions.extend(predictions.cpu().numpy())\n",
        "            all_labels.extend(target.cpu().numpy())\n",
        "    return np.array(all_predictions), np.array(all_labels)\n"
      ],
      "metadata": {
        "id": "Yw6vO5ynPPnt"
      },
      "execution_count": 34,
      "outputs": []
    },
    {
      "cell_type": "code",
      "source": [
        "# print misclassified examples\n",
        "def print_misclassified_examples(texts, true_labels, predicted_labels, n=5):\n",
        "    misclassified = np.where(true_labels != predicted_labels)[0]\n",
        "    np.random.shuffle(misclassified)\n",
        "\n",
        "    # the index shouldn't exceed the bounds of texts\n",
        "    for idx in misclassified[:n]:\n",
        "        if idx < len(texts):  # check if index is within bounds\n",
        "            print(f\"Text: {texts[idx]}\")\n",
        "            print(f\"True label: {label_encoder.inverse_transform([true_labels[idx]])[0]}\")\n",
        "            print(f\"Predicted label: {label_encoder.inverse_transform([predicted_labels[idx]])[0]}\")\n",
        "            print()\n"
      ],
      "metadata": {
        "id": "mPxRk2eDPRCM"
      },
      "execution_count": 35,
      "outputs": []
    },
    {
      "cell_type": "code",
      "source": [
        "# Evaluate on test set\n",
        "test_predictions, test_true_labels = get_predictions(loaded_model, test_loader)"
      ],
      "metadata": {
        "id": "-M-hBltzPc5h"
      },
      "execution_count": 36,
      "outputs": []
    },
    {
      "cell_type": "code",
      "source": [
        "# Classification report\n",
        "print(\"Classification Report:\")\n",
        "print(classification_report(test_true_labels, test_predictions, target_names=label_encoder.classes_))\n"
      ],
      "metadata": {
        "colab": {
          "base_uri": "https://localhost:8080/"
        },
        "id": "2rTaowtGPUai",
        "outputId": "07379680-6539-4b4c-a70d-db7b62714a0f"
      },
      "execution_count": 37,
      "outputs": [
        {
          "output_type": "stream",
          "name": "stdout",
          "text": [
            "Classification Report:\n",
            "              precision    recall  f1-score   support\n",
            "\n",
            "      arabic       0.96      0.96      0.96       406\n",
            "       dutch       0.95      0.95      0.95       407\n",
            "     english       0.85      0.97      0.91       407\n",
            "      french       0.98      0.93      0.95       407\n",
            "      german       0.97      0.96      0.96       406\n",
            "       hindi       0.98      0.98      0.98       407\n",
            "     italian       0.97      0.96      0.96       407\n",
            "    japanese       0.96      0.94      0.95       406\n",
            "    kannanda       0.88      0.87      0.87       407\n",
            "   malayalam       0.83      0.90      0.87       407\n",
            "  portuguese       0.90      0.95      0.92       407\n",
            "     spanish       0.94      0.89      0.92       406\n",
            "       tamil       0.90      0.79      0.84       406\n",
            "\n",
            "    accuracy                           0.93      5286\n",
            "   macro avg       0.93      0.93      0.93      5286\n",
            "weighted avg       0.93      0.93      0.93      5286\n",
            "\n"
          ]
        }
      ]
    },
    {
      "cell_type": "code",
      "source": [
        "# confusion matrix\n",
        "cm = confusion_matrix(test_true_labels, test_predictions)\n",
        "plt.figure(figsize=(10, 8))\n",
        "sns.heatmap(cm, annot=True, fmt='d', cmap='Blues', xticklabels=label_encoder.classes_, yticklabels=label_encoder.classes_)\n",
        "plt.title('Confusion Matrix')\n",
        "plt.xlabel('Predicted')\n",
        "plt.ylabel('True')\n",
        "plt.show()\n"
      ],
      "metadata": {
        "colab": {
          "base_uri": "https://localhost:8080/",
          "height": 783
        },
        "id": "ndhZWUZvPmSb",
        "outputId": "42f689dc-8dd6-45e6-e3cb-194980c21cd0"
      },
      "execution_count": 38,
      "outputs": [
        {
          "output_type": "display_data",
          "data": {
            "text/plain": [
              "<Figure size 1000x800 with 2 Axes>"
            ],
            "image/png": "[encoded data removed]"
          },
          "metadata": {}
        }
      ]
    },
    {
      "cell_type": "code",
      "source": [
        "# evaluate on test set\n",
        "model.eval()\n",
        "test_loss = 0\n",
        "correct = 0\n",
        "with torch.no_grad():\n",
        "    for data, target in test_loader:\n",
        "        data, target = data.to(device), target.to(device)\n",
        "        output = model(data)\n",
        "        test_loss += criterion(output, target).item()\n",
        "        pred = output.argmax(dim=1, keepdim=True)\n",
        "        correct += pred.eq(target.view_as(pred)).sum().item()\n",
        "\n",
        "test_loss /= len(test_loader)\n",
        "accuracy = correct / len(test_dataset)\n",
        "print(f'Test Loss: {test_loss:.4f}, Test Accuracy: {accuracy:.4f}')\n"
      ],
      "metadata": {
        "colab": {
          "base_uri": "https://localhost:8080/"
        },
        "id": "4BxulUTbL9f2",
        "outputId": "805e9c3b-5dcc-4a97-e4a2-a49e67220941"
      },
      "execution_count": 40,
      "outputs": [
        {
          "output_type": "stream",
          "name": "stdout",
          "text": [
            "Test Loss: 0.2706, Test Accuracy: 0.9268\n"
          ]
        }
      ]
    }
  ]
}